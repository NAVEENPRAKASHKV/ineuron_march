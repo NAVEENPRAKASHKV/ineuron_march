{
 "cells": [
  {
   "cell_type": "markdown",
   "id": "140f3c6d",
   "metadata": {},
   "source": [
    "# q1"
   ]
  },
  {
   "cell_type": "code",
   "execution_count": 14,
   "id": "cb879fd0",
   "metadata": {},
   "outputs": [
    {
     "name": "stdout",
     "output_type": "stream",
     "text": [
      "{'abc': ['def', 'ghi', 'jkl', 'mno', 'pqr', 'stu', 'vwx', 'yz'],\n",
      " 'def': ['ghi', 'jkl', 'mno', 'pqr', 'stu', 'vwx', 'yz'],\n",
      " 'ghi': ['jkl', 'mno', 'pqr', 'stu', 'vwx', 'yz'],\n",
      " 'jkl': ['mno', 'pqr', 'stu', 'vwx', 'yz'],\n",
      " 'mno': ['pqr', 'stu', 'vwx', 'yz'],\n",
      " 'pqr': ['stu', 'vwx', 'yz'],\n",
      " 'stu': ['vwx', 'yz'],\n",
      " 'vwx': ['yz'],\n",
      " 'yz': ['you are finally here !!!']}\n"
     ]
    }
   ],
   "source": [
    "from pprint import pprint\n",
    "\n",
    "input_dict = {\"abc\":{\"def\":{\"ghi\":{\"jkl\":{\"mno\":{\"pqr\":{\"stu\":{\"vwx\":{\"yz\":\"you are finally here !!!\"}}}}}}}}}\n",
    "\n",
    "def a_particular_style(input_dict):\n",
    "    ret = {}\n",
    "    for k, v in input_dict.items():\n",
    "        if isinstance(v, dict):\n",
    "            d = a_particular_style(v)\n",
    "            ret.update(d)\n",
    "            ret[k] = list(reversed(d))\n",
    "        else:\n",
    "            ret[k] = [v]\n",
    "    return ret\n",
    "\n",
    "pprint(a_particular_style(input_dict))"
   ]
  },
  {
   "cell_type": "markdown",
   "id": "b7ecf31b",
   "metadata": {},
   "source": [
    "# q2"
   ]
  },
  {
   "cell_type": "code",
   "execution_count": 17,
   "id": "1422d0e9",
   "metadata": {},
   "outputs": [
    {
     "name": "stdout",
     "output_type": "stream",
     "text": [
      "4\n"
     ]
    }
   ],
   "source": [
    "def max_min_distance(stalls, horses):\n",
    "  stalls.sort()\n",
    "  if horses > len(stalls):\n",
    "    return 0\n",
    "  max_distance = 0\n",
    "  for i in range(1, len(stalls)):\n",
    "    gap = stalls[i] - stalls[i-1]\n",
    "    max_distance = max(max_distance, gap)\n",
    "  return max_distance\n",
    "\n",
    "stalls = [1, 2, 4, 8, 9]\n",
    "horses = 3\n",
    "max_distance = max_min_distance(stalls, horses)\n",
    "print(max_distance)  # Output: 3\n",
    "\n"
   ]
  },
  {
   "cell_type": "markdown",
   "id": "55f70c81",
   "metadata": {},
   "source": [
    "# Q4"
   ]
  },
  {
   "cell_type": "code",
   "execution_count": 19,
   "id": "69b40594",
   "metadata": {},
   "outputs": [],
   "source": [
    "def fourSum(nums, target):\n",
    "\n",
    "  nums.sort() \n",
    "  results = []\n",
    "  for i in range(len(nums) - 3):\n",
    "    if i > 0 and nums[i] == nums[i - 1]:  \n",
    "      continue\n",
    "    for j in range(i + 1, len(nums) - 2):\n",
    "      if j > i + 1 and nums[j] == nums[j - 1]:  \n",
    "        continue\n",
    "      left, right = j + 1, len(nums) - 1\n",
    "      while left < right:\n",
    "        quad_sum = nums[i] + nums[j] + nums[left] + nums[right]\n",
    "        if quad_sum == target:\n",
    "          results.append([nums[i], nums[j], nums[left], nums[right]])\n",
    "          left += 1\n",
    "          right -= 1\n",
    "        elif quad_sum < target:\n",
    "          left += 1\n",
    "        else:\n",
    "          right -= 1\n",
    "  return results\n"
   ]
  },
  {
   "cell_type": "code",
   "execution_count": null,
   "id": "3ab88b30",
   "metadata": {},
   "outputs": [],
   "source": []
  },
  {
   "cell_type": "code",
   "execution_count": null,
   "id": "6c45f54f",
   "metadata": {},
   "outputs": [],
   "source": []
  }
 ],
 "metadata": {
  "kernelspec": {
   "display_name": "Python 3 (ipykernel)",
   "language": "python",
   "name": "python3"
  },
  "language_info": {
   "codemirror_mode": {
    "name": "ipython",
    "version": 3
   },
   "file_extension": ".py",
   "mimetype": "text/x-python",
   "name": "python",
   "nbconvert_exporter": "python",
   "pygments_lexer": "ipython3",
   "version": "3.10.9"
  }
 },
 "nbformat": 4,
 "nbformat_minor": 5
}
