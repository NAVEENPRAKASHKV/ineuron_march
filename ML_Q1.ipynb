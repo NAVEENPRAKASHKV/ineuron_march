{
 "cells": [
  {
   "cell_type": "code",
   "execution_count": 77,
   "id": "5bfb4dc0",
   "metadata": {},
   "outputs": [],
   "source": [
    "import matplotlib.pyplot as plt\n",
    "import numpy as np\n",
    "import pandas as pd\n",
    "import seaborn as sns"
   ]
  },
  {
   "cell_type": "code",
   "execution_count": 78,
   "id": "f9cc9a85",
   "metadata": {},
   "outputs": [],
   "source": [
    "df=pd.read_csv(\"instagram.csv\")"
   ]
  },
  {
   "cell_type": "code",
   "execution_count": 79,
   "id": "16a466c8",
   "metadata": {},
   "outputs": [
    {
     "data": {
      "text/html": [
       "<div>\n",
       "<style scoped>\n",
       "    .dataframe tbody tr th:only-of-type {\n",
       "        vertical-align: middle;\n",
       "    }\n",
       "\n",
       "    .dataframe tbody tr th {\n",
       "        vertical-align: top;\n",
       "    }\n",
       "\n",
       "    .dataframe thead th {\n",
       "        text-align: right;\n",
       "    }\n",
       "</style>\n",
       "<table border=\"1\" class=\"dataframe\">\n",
       "  <thead>\n",
       "    <tr style=\"text-align: right;\">\n",
       "      <th></th>\n",
       "      <th>Unnamed: 0</th>\n",
       "      <th>S.No</th>\n",
       "      <th>USERNAME</th>\n",
       "      <th>Caption</th>\n",
       "      <th>Followers</th>\n",
       "      <th>Hashtags</th>\n",
       "      <th>Time since posted</th>\n",
       "      <th>Likes</th>\n",
       "    </tr>\n",
       "  </thead>\n",
       "  <tbody>\n",
       "    <tr>\n",
       "      <th>0</th>\n",
       "      <td>0</td>\n",
       "      <td>1</td>\n",
       "      <td>mikequindazzi</td>\n",
       "      <td>Who are #DataScientist and what do they do? &gt;&gt;...</td>\n",
       "      <td>1600</td>\n",
       "      <td>#MachineLearning #AI #DataAnalytics #DataScien...</td>\n",
       "      <td>11 hours</td>\n",
       "      <td>139</td>\n",
       "    </tr>\n",
       "    <tr>\n",
       "      <th>1</th>\n",
       "      <td>1</td>\n",
       "      <td>2</td>\n",
       "      <td>drgorillapaints</td>\n",
       "      <td>We all know where it’s going. We just have to ...</td>\n",
       "      <td>880</td>\n",
       "      <td>#deck .#mac #macintosh#sayhello #apple #steve...</td>\n",
       "      <td>2 hours</td>\n",
       "      <td>23</td>\n",
       "    </tr>\n",
       "    <tr>\n",
       "      <th>2</th>\n",
       "      <td>2</td>\n",
       "      <td>3</td>\n",
       "      <td>aitrading_official</td>\n",
       "      <td>Alexander Barinov: 4 years as CFO in multinati...</td>\n",
       "      <td>255</td>\n",
       "      <td>#whoiswho #aitrading #ai #aitradingteam#instat...</td>\n",
       "      <td>2 hours</td>\n",
       "      <td>25</td>\n",
       "    </tr>\n",
       "    <tr>\n",
       "      <th>3</th>\n",
       "      <td>3</td>\n",
       "      <td>4</td>\n",
       "      <td>opensourcedworkplace</td>\n",
       "      <td>sfad</td>\n",
       "      <td>340</td>\n",
       "      <td>#iot #cre#workplace #CDO #bigdata #technology#...</td>\n",
       "      <td>3 hours</td>\n",
       "      <td>49</td>\n",
       "    </tr>\n",
       "    <tr>\n",
       "      <th>4</th>\n",
       "      <td>4</td>\n",
       "      <td>5</td>\n",
       "      <td>crea.vision</td>\n",
       "      <td>Ever missed a call while your phone was chargi...</td>\n",
       "      <td>304</td>\n",
       "      <td>#instamachinelearning #instabigdata#instamarke...</td>\n",
       "      <td>3 hours</td>\n",
       "      <td>30</td>\n",
       "    </tr>\n",
       "  </tbody>\n",
       "</table>\n",
       "</div>"
      ],
      "text/plain": [
       "   Unnamed: 0  S.No              USERNAME  \\\n",
       "0           0     1         mikequindazzi   \n",
       "1           1     2       drgorillapaints   \n",
       "2           2     3    aitrading_official   \n",
       "3           3     4  opensourcedworkplace   \n",
       "4           4     5           crea.vision   \n",
       "\n",
       "                                             Caption  Followers  \\\n",
       "0  Who are #DataScientist and what do they do? >>...       1600   \n",
       "1  We all know where it’s going. We just have to ...        880   \n",
       "2  Alexander Barinov: 4 years as CFO in multinati...        255   \n",
       "3                                               sfad        340   \n",
       "4  Ever missed a call while your phone was chargi...        304   \n",
       "\n",
       "                                            Hashtags Time since posted  Likes  \n",
       "0  #MachineLearning #AI #DataAnalytics #DataScien...          11 hours    139  \n",
       "1   #deck .#mac #macintosh#sayhello #apple #steve...           2 hours     23  \n",
       "2  #whoiswho #aitrading #ai #aitradingteam#instat...           2 hours     25  \n",
       "3  #iot #cre#workplace #CDO #bigdata #technology#...           3 hours     49  \n",
       "4  #instamachinelearning #instabigdata#instamarke...           3 hours     30  "
      ]
     },
     "execution_count": 79,
     "metadata": {},
     "output_type": "execute_result"
    }
   ],
   "source": [
    "df.head()"
   ]
  },
  {
   "cell_type": "code",
   "execution_count": 80,
   "id": "c82b25a1",
   "metadata": {},
   "outputs": [
    {
     "data": {
      "text/plain": [
       "(100, 8)"
      ]
     },
     "execution_count": 80,
     "metadata": {},
     "output_type": "execute_result"
    }
   ],
   "source": [
    "df.shape"
   ]
  },
  {
   "cell_type": "code",
   "execution_count": 81,
   "id": "60565662",
   "metadata": {},
   "outputs": [],
   "source": [
    "df.drop(['S.No','Unnamed: 0'],axis=1,inplace=True)"
   ]
  },
  {
   "cell_type": "code",
   "execution_count": 82,
   "id": "a3cc48df",
   "metadata": {},
   "outputs": [
    {
     "name": "stdout",
     "output_type": "stream",
     "text": [
      "<class 'pandas.core.frame.DataFrame'>\n",
      "RangeIndex: 100 entries, 0 to 99\n",
      "Data columns (total 6 columns):\n",
      " #   Column             Non-Null Count  Dtype \n",
      "---  ------             --------------  ----- \n",
      " 0   USERNAME           100 non-null    object\n",
      " 1   Caption            94 non-null     object\n",
      " 2   Followers          100 non-null    int64 \n",
      " 3   Hashtags           100 non-null    object\n",
      " 4   Time since posted  100 non-null    object\n",
      " 5   Likes              100 non-null    int64 \n",
      "dtypes: int64(2), object(4)\n",
      "memory usage: 4.8+ KB\n"
     ]
    }
   ],
   "source": [
    "df.info()"
   ]
  },
  {
   "cell_type": "code",
   "execution_count": 83,
   "id": "5e8eab8b",
   "metadata": {},
   "outputs": [
    {
     "data": {
      "text/html": [
       "<div>\n",
       "<style scoped>\n",
       "    .dataframe tbody tr th:only-of-type {\n",
       "        vertical-align: middle;\n",
       "    }\n",
       "\n",
       "    .dataframe tbody tr th {\n",
       "        vertical-align: top;\n",
       "    }\n",
       "\n",
       "    .dataframe thead th {\n",
       "        text-align: right;\n",
       "    }\n",
       "</style>\n",
       "<table border=\"1\" class=\"dataframe\">\n",
       "  <thead>\n",
       "    <tr style=\"text-align: right;\">\n",
       "      <th></th>\n",
       "      <th>count</th>\n",
       "      <th>mean</th>\n",
       "      <th>std</th>\n",
       "      <th>min</th>\n",
       "      <th>25%</th>\n",
       "      <th>50%</th>\n",
       "      <th>75%</th>\n",
       "      <th>max</th>\n",
       "    </tr>\n",
       "  </thead>\n",
       "  <tbody>\n",
       "    <tr>\n",
       "      <th>Followers</th>\n",
       "      <td>100.0</td>\n",
       "      <td>961.96</td>\n",
       "      <td>1014.62567</td>\n",
       "      <td>11.0</td>\n",
       "      <td>252.75</td>\n",
       "      <td>612.0</td>\n",
       "      <td>1197.0</td>\n",
       "      <td>4496.0</td>\n",
       "    </tr>\n",
       "    <tr>\n",
       "      <th>Likes</th>\n",
       "      <td>100.0</td>\n",
       "      <td>46.48</td>\n",
       "      <td>55.08698</td>\n",
       "      <td>8.0</td>\n",
       "      <td>19.00</td>\n",
       "      <td>29.0</td>\n",
       "      <td>46.0</td>\n",
       "      <td>349.0</td>\n",
       "    </tr>\n",
       "  </tbody>\n",
       "</table>\n",
       "</div>"
      ],
      "text/plain": [
       "           count    mean         std   min     25%    50%     75%     max\n",
       "Followers  100.0  961.96  1014.62567  11.0  252.75  612.0  1197.0  4496.0\n",
       "Likes      100.0   46.48    55.08698   8.0   19.00   29.0    46.0   349.0"
      ]
     },
     "execution_count": 83,
     "metadata": {},
     "output_type": "execute_result"
    }
   ],
   "source": [
    "df.describe().T"
   ]
  },
  {
   "cell_type": "code",
   "execution_count": 84,
   "id": "c0900145",
   "metadata": {},
   "outputs": [
    {
     "data": {
      "image/png": "[encoded data removed]",
      "text/plain": [
       "<Figure size 1000x1000 with 1 Axes>"
      ]
     },
     "metadata": {},
     "output_type": "display_data"
    }
   ],
   "source": [
    "plt.figure(figsize=(10,10))\n",
    "sns.histplot(data=df, x='Followers', bins=30, kde=True)\n",
    "plt.show()"
   ]
  },
  {
   "cell_type": "code",
   "execution_count": 85,
   "id": "dd069521",
   "metadata": {},
   "outputs": [],
   "source": [
    "from sklearn.preprocessing import LabelEncoder\n",
    "encoder=LabelEncoder()\n",
    "\n",
    "df['USERNAME']=encoder.fit_transform(df['USERNAME'])\n",
    "df['Caption']=encoder.fit_transform(df['Caption'])\n",
    "df['Hashtags']=encoder.fit_transform(df['Hashtags'])\n",
    "df['Time since posted'] = df['Time since posted'].str.extract('(\\d+)').astype(int)\n"
   ]
  },
  {
   "cell_type": "code",
   "execution_count": 86,
   "id": "7d4c19bc",
   "metadata": {},
   "outputs": [
    {
     "data": {
      "text/html": [
       "<div>\n",
       "<style scoped>\n",
       "    .dataframe tbody tr th:only-of-type {\n",
       "        vertical-align: middle;\n",
       "    }\n",
       "\n",
       "    .dataframe tbody tr th {\n",
       "        vertical-align: top;\n",
       "    }\n",
       "\n",
       "    .dataframe thead th {\n",
       "        text-align: right;\n",
       "    }\n",
       "</style>\n",
       "<table border=\"1\" class=\"dataframe\">\n",
       "  <thead>\n",
       "    <tr style=\"text-align: right;\">\n",
       "      <th></th>\n",
       "      <th>USERNAME</th>\n",
       "      <th>Caption</th>\n",
       "      <th>Followers</th>\n",
       "      <th>Hashtags</th>\n",
       "      <th>Time since posted</th>\n",
       "      <th>Likes</th>\n",
       "    </tr>\n",
       "  </thead>\n",
       "  <tbody>\n",
       "    <tr>\n",
       "      <th>0</th>\n",
       "      <td>64</td>\n",
       "      <td>86</td>\n",
       "      <td>1600</td>\n",
       "      <td>17</td>\n",
       "      <td>11</td>\n",
       "      <td>139</td>\n",
       "    </tr>\n",
       "    <tr>\n",
       "      <th>1</th>\n",
       "      <td>29</td>\n",
       "      <td>82</td>\n",
       "      <td>880</td>\n",
       "      <td>97</td>\n",
       "      <td>2</td>\n",
       "      <td>23</td>\n",
       "    </tr>\n",
       "    <tr>\n",
       "      <th>2</th>\n",
       "      <td>3</td>\n",
       "      <td>13</td>\n",
       "      <td>255</td>\n",
       "      <td>87</td>\n",
       "      <td>2</td>\n",
       "      <td>25</td>\n",
       "    </tr>\n",
       "    <tr>\n",
       "      <th>3</th>\n",
       "      <td>71</td>\n",
       "      <td>89</td>\n",
       "      <td>340</td>\n",
       "      <td>65</td>\n",
       "      <td>3</td>\n",
       "      <td>49</td>\n",
       "    </tr>\n",
       "    <tr>\n",
       "      <th>4</th>\n",
       "      <td>23</td>\n",
       "      <td>30</td>\n",
       "      <td>304</td>\n",
       "      <td>64</td>\n",
       "      <td>3</td>\n",
       "      <td>30</td>\n",
       "    </tr>\n",
       "  </tbody>\n",
       "</table>\n",
       "</div>"
      ],
      "text/plain": [
       "   USERNAME  Caption  Followers  Hashtags  Time since posted  Likes\n",
       "0        64       86       1600        17                 11    139\n",
       "1        29       82        880        97                  2     23\n",
       "2         3       13        255        87                  2     25\n",
       "3        71       89        340        65                  3     49\n",
       "4        23       30        304        64                  3     30"
      ]
     },
     "execution_count": 86,
     "metadata": {},
     "output_type": "execute_result"
    }
   ],
   "source": [
    "df.head()"
   ]
  },
  {
   "cell_type": "code",
   "execution_count": 87,
   "id": "93fa1716",
   "metadata": {},
   "outputs": [],
   "source": [
    "from sklearn.model_selection import train_test_split \n",
    "\n",
    "X,y=df.drop(['Time since posted'],axis=1),df['Time since posted']\n",
    "X_train,X_test,y_train,y_test   =train_test_split (X,y,test_size=0.2,random_state=100)"
   ]
  },
  {
   "cell_type": "code",
   "execution_count": 88,
   "id": "246f4e6d",
   "metadata": {},
   "outputs": [],
   "source": [
    "from sklearn.preprocessing import StandardScaler\n",
    "scaler=StandardScaler()\n",
    "X_train_scaled=scaler.fit_transform(X_train)\n",
    "X_test_scaled=scaler.transform(X_test)"
   ]
  },
  {
   "cell_type": "code",
   "execution_count": 89,
   "id": "bb6cdfac",
   "metadata": {},
   "outputs": [],
   "source": [
    "from sklearn.linear_model import LinearRegression,Ridge,Lasso,ElasticNet\n",
    "from sklearn.ensemble import RandomForestRegressor\n",
    "from sklearn.tree import DecisionTreeRegressor\n",
    "from sklearn.metrics import r2_score,mean_absolute_error, mean_squared_error"
   ]
  },
  {
   "cell_type": "code",
   "execution_count": 90,
   "id": "f6029b6f",
   "metadata": {},
   "outputs": [],
   "source": [
    "def evaluate_model(true, predict):\n",
    "    r2=r2_score(true, predict)\n",
    "    mae=mean_absolute_error(true,predict)\n",
    "    mse=mean_squared_error(true,predict)\n",
    "    return r2, mae,mse,"
   ]
  },
  {
   "cell_type": "code",
   "execution_count": 91,
   "id": "6b5a2030",
   "metadata": {},
   "outputs": [],
   "source": [
    "models={\n",
    "    'LinearRegression':LinearRegression(),\n",
    "    'Lasso':Lasso(),\n",
    "    'Ridge':Ridge(),\n",
    "    'Elasticnet':ElasticNet(),\n",
    "    'Randomforest':RandomForestRegressor()\n",
    "}"
   ]
  },
  {
   "cell_type": "code",
   "execution_count": 92,
   "id": "014411bf",
   "metadata": {},
   "outputs": [
    {
     "name": "stdout",
     "output_type": "stream",
     "text": [
      "LinearRegression()\n",
      "Lasso()\n",
      "Ridge()\n",
      "ElasticNet()\n",
      "RandomForestRegressor()\n"
     ]
    }
   ],
   "source": [
    "for i in range(len(models)):\n",
    "    model=list((models.values()))[i]\n",
    "    print(model)\n",
    "r2_list=[]"
   ]
  },
  {
   "cell_type": "code",
   "execution_count": 93,
   "id": "ac151c22",
   "metadata": {},
   "outputs": [
    {
     "name": "stdout",
     "output_type": "stream",
     "text": [
      "model training performance LinearRegression()\n",
      "MSE: 2.658829582261197\n",
      "MAE: 1.1891479161785647\n",
      "R2 SCORE: -0.4391499768666829\n",
      "\n",
      "\n",
      "model training performance Lasso()\n",
      "MSE: 2.497532069283957\n",
      "MAE: 1.139337503667024\n",
      "R2 SCORE: -0.3518441511685826\n",
      "\n",
      "\n",
      "model training performance Ridge()\n",
      "MSE: 2.65879539908838\n",
      "MAE: 1.189137773694623\n",
      "R2 SCORE: -0.43913147447273615\n",
      "\n",
      "\n",
      "model training performance ElasticNet()\n",
      "MSE: 2.5747315694450186\n",
      "MAE: 1.1636418982975072\n",
      "R2 SCORE: -0.3936300781840425\n",
      "\n",
      "\n",
      "model training performance RandomForestRegressor()\n",
      "MSE: 3.7997150000000004\n",
      "MAE: 1.2075\n",
      "R2 SCORE: -1.056679296346414\n",
      "\n",
      "\n"
     ]
    }
   ],
   "source": [
    "for i in range(len(models)):\n",
    "    model=list(models.values())[i]\n",
    "    model.fit(X_train,y_train)\n",
    "    y_pred=model.predict(X_test)\n",
    "    R2,MAE,MSE=evaluate_model(y_test,y_pred)\n",
    "    print(\"model training performance\",model)\n",
    "    print(\"MSE:\", MSE)\n",
    "    print(\"MAE:\",MAE)\n",
    "    print(\"R2 SCORE:\",R2)\n",
    "    r2_list.append(R2)\n",
    "    print(\"\\n\")"
   ]
  },
  {
   "cell_type": "code",
   "execution_count": null,
   "id": "7fe425fa",
   "metadata": {},
   "outputs": [],
   "source": []
  },
  {
   "cell_type": "code",
   "execution_count": null,
   "id": "383b8ec9",
   "metadata": {},
   "outputs": [],
   "source": []
  }
 ],
 "metadata": {
  "kernelspec": {
   "display_name": "Python 3 (ipykernel)",
   "language": "python",
   "name": "python3"
  },
  "language_info": {
   "codemirror_mode": {
    "name": "ipython",
    "version": 3
   },
   "file_extension": ".py",
   "mimetype": "text/x-python",
   "name": "python",
   "nbconvert_exporter": "python",
   "pygments_lexer": "ipython3",
   "version": "3.10.9"
  }
 },
 "nbformat": 4,
 "nbformat_minor": 5
}
